{
 "cells": [
  {
   "cell_type": "code",
   "execution_count": 24,
   "id": "3912d400",
   "metadata": {},
   "outputs": [],
   "source": [
    "#モジュールおよび検出器の読み込み"
   ]
  },
  {
   "cell_type": "code",
   "execution_count": 25,
   "id": "0d781e09",
   "metadata": {},
   "outputs": [],
   "source": [
    "import cv2"
   ]
  },
  {
   "cell_type": "code",
   "execution_count": 26,
   "id": "bacce543",
   "metadata": {},
   "outputs": [],
   "source": [
    "face_cascade = cv2.CascadeClassifier('./haarcascade_frontalface_default.xml')"
   ]
  },
  {
   "cell_type": "code",
   "execution_count": 27,
   "id": "94296724",
   "metadata": {},
   "outputs": [],
   "source": [
    "eye_cascade = cv2.CascadeClassifier('./haarcascade_eye.xml')"
   ]
  },
  {
   "cell_type": "code",
   "execution_count": 28,
   "id": "f9b10f01",
   "metadata": {},
   "outputs": [],
   "source": [
    "src = cv2.imread('./sample.jpg', 0)"
   ]
  },
  {
   "cell_type": "code",
   "execution_count": 29,
   "id": "4e2cd4dd",
   "metadata": {},
   "outputs": [],
   "source": [
    "faces = face_cascade.detectMultiScale(src)"
   ]
  },
  {
   "cell_type": "code",
   "execution_count": 30,
   "id": "a578c23e",
   "metadata": {},
   "outputs": [],
   "source": [
    "for x, y, w, h in faces:\n",
    "    cv2.rectangle(src, (x, y), (x + w, y + h), (255, 255, 255), 1)\n",
    "    face = src[y: y + h, x: x + w]\n",
    "    eyes = eye_cascade.detectMultiScale(face)\n",
    "    for (ex, ey, ew, eh) in eyes:\n",
    "        cv2.rectangle(face, (ex, ey), (ex + ew, ey + eh), (255, 255, 255), 1)"
   ]
  },
  {
   "cell_type": "code",
   "execution_count": 31,
   "id": "2e1e095e",
   "metadata": {},
   "outputs": [
    {
     "data": {
      "text/plain": [
       "True"
      ]
     },
     "execution_count": 31,
     "metadata": {},
     "output_type": "execute_result"
    }
   ],
   "source": [
    "cv2.imwrite('facedetect_result.jpg', src)"
   ]
  },
  {
   "cell_type": "code",
   "execution_count": 34,
   "id": "ea59b9fa",
   "metadata": {},
   "outputs": [],
   "source": [
    "face_cascade = cv2.CascadeClassifier('./haarcascade_frontalface_default.xml')"
   ]
  },
  {
   "cell_type": "code",
   "execution_count": 35,
   "id": "4e6c5665",
   "metadata": {},
   "outputs": [],
   "source": [
    "eye_cascade = cv2.CascadeClassifier('./haarcascade_eye.xml')"
   ]
  },
  {
   "cell_type": "code",
   "execution_count": 36,
   "id": "275cee7d",
   "metadata": {},
   "outputs": [],
   "source": [
    "src = cv2.imread('sample.jpg')"
   ]
  },
  {
   "cell_type": "code",
   "execution_count": 37,
   "id": "afb4f2c6",
   "metadata": {},
   "outputs": [],
   "source": [
    "src_gray = cv2.cvtColor(src, cv2.COLOR_BGR2GRAY)"
   ]
  },
  {
   "cell_type": "code",
   "execution_count": 38,
   "id": "df66640f",
   "metadata": {},
   "outputs": [],
   "source": [
    "faces = face_cascade.detectMultiScale(src_gray)"
   ]
  },
  {
   "cell_type": "code",
   "execution_count": 39,
   "id": "c8b747ad",
   "metadata": {},
   "outputs": [],
   "source": [
    "for x, y, w, h in faces:\n",
    "    cv2.rectangle(src, (x, y), (x + w, y + h), (255, 0, 0), 2)\n",
    "    face = src[y: y + h, x: x + w]\n",
    "    face_gray = src_gray[y: y + h, x: x + w]\n",
    "    eyes = eye_cascade.detectMultiScale(face_gray)\n",
    "    for (ex, ey, ew, eh) in eyes:\n",
    "        cv2.rectangle(face, (ex, ey), (ex + ew, ey + eh), (0, 255, 0), 2)"
   ]
  },
  {
   "cell_type": "code",
   "execution_count": 40,
   "id": "a826d13b",
   "metadata": {},
   "outputs": [
    {
     "data": {
      "text/plain": [
       "True"
      ]
     },
     "execution_count": 40,
     "metadata": {},
     "output_type": "execute_result"
    }
   ],
   "source": [
    "cv2.imwrite('opencv_face_detect_rectangle.jpg', src)"
   ]
  },
  {
   "cell_type": "code",
   "execution_count": null,
   "id": "c56788fd",
   "metadata": {},
   "outputs": [],
   "source": []
  }
 ],
 "metadata": {
  "kernelspec": {
   "display_name": "Python 3 (ipykernel)",
   "language": "python",
   "name": "python3"
  },
  "language_info": {
   "codemirror_mode": {
    "name": "ipython",
    "version": 3
   },
   "file_extension": ".py",
   "mimetype": "text/x-python",
   "name": "python",
   "nbconvert_exporter": "python",
   "pygments_lexer": "ipython3",
   "version": "3.8.10"
  }
 },
 "nbformat": 4,
 "nbformat_minor": 5
}
