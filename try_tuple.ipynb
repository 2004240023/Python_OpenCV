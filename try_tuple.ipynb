{
 "cells": [
  {
   "cell_type": "code",
   "execution_count": 1,
   "id": "2b1eb818",
   "metadata": {},
   "outputs": [],
   "source": [
    "import numpy as np"
   ]
  },
  {
   "cell_type": "code",
   "execution_count": 2,
   "id": "dbd94587",
   "metadata": {},
   "outputs": [],
   "source": [
    "a = (1,'pom')"
   ]
  },
  {
   "cell_type": "code",
   "execution_count": 3,
   "id": "b81f1478",
   "metadata": {},
   "outputs": [
    {
     "data": {
      "text/plain": [
       "1"
      ]
     },
     "execution_count": 3,
     "metadata": {},
     "output_type": "execute_result"
    }
   ],
   "source": [
    "a[0]"
   ]
  },
  {
   "cell_type": "code",
   "execution_count": 4,
   "id": "bca2817b",
   "metadata": {},
   "outputs": [
    {
     "data": {
      "text/plain": [
       "'pom'"
      ]
     },
     "execution_count": 4,
     "metadata": {},
     "output_type": "execute_result"
    }
   ],
   "source": [
    "a[1]"
   ]
  },
  {
   "cell_type": "code",
   "execution_count": 5,
   "id": "7d0cb904",
   "metadata": {},
   "outputs": [],
   "source": [
    "#a[0] = 100\n",
    "\n",
    "#---------------------------------------------------------------------------\n",
    "#TypeError                                 Traceback (most recent call last)\n",
    "#Input In [4], in <cell line: 1>()\n",
    "#----> 1 a[0] = 100\n",
    "\n",
    "#TypeError: 'tuple' object does not support item assignment"
   ]
  },
  {
   "cell_type": "code",
   "execution_count": 6,
   "id": "9c48ec6c",
   "metadata": {},
   "outputs": [],
   "source": [
    "b = ((1,2,3),('a','b','c'),(True,True,False))"
   ]
  },
  {
   "cell_type": "code",
   "execution_count": 7,
   "id": "d701f1e8",
   "metadata": {},
   "outputs": [
    {
     "data": {
      "text/plain": [
       "('a', 'b', 'c')"
      ]
     },
     "execution_count": 7,
     "metadata": {},
     "output_type": "execute_result"
    }
   ],
   "source": [
    "b[1]"
   ]
  },
  {
   "cell_type": "code",
   "execution_count": 8,
   "id": "c6d523cb",
   "metadata": {},
   "outputs": [
    {
     "data": {
      "text/plain": [
       "False"
      ]
     },
     "execution_count": 8,
     "metadata": {},
     "output_type": "execute_result"
    }
   ],
   "source": [
    "b[2][2]"
   ]
  },
  {
   "cell_type": "code",
   "execution_count": 9,
   "id": "b6b35728",
   "metadata": {},
   "outputs": [
    {
     "name": "stdout",
     "output_type": "stream",
     "text": [
      "(1, 2, 3)\n",
      "('a', 'b', 'c')\n",
      "(True, True, False)\n"
     ]
    }
   ],
   "source": [
    "for data in b:\n",
    "    print(data)"
   ]
  },
  {
   "cell_type": "code",
   "execution_count": 10,
   "id": "0b09746c",
   "metadata": {},
   "outputs": [
    {
     "name": "stdout",
     "output_type": "stream",
     "text": [
      "x:1,y:2,z:3\n",
      "x:a,y:b,z:c\n",
      "x:True,y:True,z:False\n"
     ]
    }
   ],
   "source": [
    "for x,y,z in b:\n",
    "    print(f'x:{x},y:{y},z:{z}')"
   ]
  },
  {
   "cell_type": "code",
   "execution_count": 11,
   "id": "f147e63f",
   "metadata": {},
   "outputs": [],
   "source": [
    "def test_tuple(param):\n",
    "    return param[0] + 1, param[1] + 'added' "
   ]
  },
  {
   "cell_type": "code",
   "execution_count": 12,
   "id": "69ac5a3f",
   "metadata": {},
   "outputs": [],
   "source": [
    "c, d = test_tuple((3, 'qom'))"
   ]
  },
  {
   "cell_type": "code",
   "execution_count": 13,
   "id": "cf0edc7a",
   "metadata": {},
   "outputs": [
    {
     "data": {
      "text/plain": [
       "4"
      ]
     },
     "execution_count": 13,
     "metadata": {},
     "output_type": "execute_result"
    }
   ],
   "source": [
    "c"
   ]
  },
  {
   "cell_type": "code",
   "execution_count": 14,
   "id": "37deb5d8",
   "metadata": {},
   "outputs": [
    {
     "data": {
      "text/plain": [
       "'qomadded'"
      ]
     },
     "execution_count": 14,
     "metadata": {},
     "output_type": "execute_result"
    }
   ],
   "source": [
    "d"
   ]
  },
  {
   "cell_type": "code",
   "execution_count": 15,
   "id": "848a70c2",
   "metadata": {},
   "outputs": [],
   "source": [
    "num = (1,2,4,5)"
   ]
  },
  {
   "cell_type": "code",
   "execution_count": 16,
   "id": "179888e7",
   "metadata": {},
   "outputs": [
    {
     "data": {
      "text/plain": [
       "12"
      ]
     },
     "execution_count": 16,
     "metadata": {},
     "output_type": "execute_result"
    }
   ],
   "source": [
    "np.sum(num)"
   ]
  },
  {
   "cell_type": "code",
   "execution_count": 17,
   "id": "3b874570",
   "metadata": {},
   "outputs": [
    {
     "data": {
      "text/plain": [
       "3.0"
      ]
     },
     "execution_count": 17,
     "metadata": {},
     "output_type": "execute_result"
    }
   ],
   "source": [
    "np.average(num)"
   ]
  },
  {
   "cell_type": "code",
   "execution_count": 18,
   "id": "5dca45e9",
   "metadata": {},
   "outputs": [],
   "source": [
    "rng = np.random.default_rng()"
   ]
  },
  {
   "cell_type": "code",
   "execution_count": 19,
   "id": "f3203b57",
   "metadata": {},
   "outputs": [],
   "source": [
    "x =rng.integers(0, 10, (5))"
   ]
  },
  {
   "cell_type": "code",
   "execution_count": 20,
   "id": "cc404ea4",
   "metadata": {},
   "outputs": [
    {
     "data": {
      "text/plain": [
       "array([6, 8, 0, 2, 2])"
      ]
     },
     "execution_count": 20,
     "metadata": {},
     "output_type": "execute_result"
    }
   ],
   "source": [
    "x"
   ]
  },
  {
   "cell_type": "code",
   "execution_count": 21,
   "id": "a3d59835",
   "metadata": {},
   "outputs": [
    {
     "data": {
      "text/plain": [
       "18"
      ]
     },
     "execution_count": 21,
     "metadata": {},
     "output_type": "execute_result"
    }
   ],
   "source": [
    "np.sum(x)"
   ]
  },
  {
   "cell_type": "code",
   "execution_count": 22,
   "id": "7013dc12",
   "metadata": {},
   "outputs": [
    {
     "data": {
      "text/plain": [
       "3.6"
      ]
     },
     "execution_count": 22,
     "metadata": {},
     "output_type": "execute_result"
    }
   ],
   "source": [
    "np.average(x)"
   ]
  },
  {
   "cell_type": "code",
   "execution_count": 23,
   "id": "3864a746",
   "metadata": {},
   "outputs": [],
   "source": [
    "num_tuple = (1,2,3)"
   ]
  },
  {
   "cell_type": "code",
   "execution_count": 24,
   "id": "e22931d7",
   "metadata": {},
   "outputs": [],
   "source": [
    "def sample_test(num_tuple):\n",
    "    result_sum = np.sum(num_tuple)\n",
    "    result_average = np.average(num_tuple)\n",
    "    return result_sum,result_average"
   ]
  },
  {
   "cell_type": "code",
   "execution_count": 25,
   "id": "6c390abe",
   "metadata": {},
   "outputs": [],
   "source": [
    "c, d = sample_test(num_tuple)"
   ]
  },
  {
   "cell_type": "code",
   "execution_count": 26,
   "id": "c81319a8",
   "metadata": {},
   "outputs": [
    {
     "data": {
      "text/plain": [
       "6"
      ]
     },
     "execution_count": 26,
     "metadata": {},
     "output_type": "execute_result"
    }
   ],
   "source": [
    "c"
   ]
  },
  {
   "cell_type": "code",
   "execution_count": 27,
   "id": "12bd2912",
   "metadata": {},
   "outputs": [
    {
     "data": {
      "text/plain": [
       "2.0"
      ]
     },
     "execution_count": 27,
     "metadata": {},
     "output_type": "execute_result"
    }
   ],
   "source": [
    "d"
   ]
  },
  {
   "cell_type": "code",
   "execution_count": null,
   "id": "bc09826a",
   "metadata": {},
   "outputs": [],
   "source": []
  }
 ],
 "metadata": {
  "kernelspec": {
   "display_name": "Python 3 (ipykernel)",
   "language": "python",
   "name": "python3"
  },
  "language_info": {
   "codemirror_mode": {
    "name": "ipython",
    "version": 3
   },
   "file_extension": ".py",
   "mimetype": "text/x-python",
   "name": "python",
   "nbconvert_exporter": "python",
   "pygments_lexer": "ipython3",
   "version": "3.8.10"
  }
 },
 "nbformat": 4,
 "nbformat_minor": 5
}
